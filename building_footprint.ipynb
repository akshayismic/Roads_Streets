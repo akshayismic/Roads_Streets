{
 "cells": [
  {
   "cell_type": "code",
   "execution_count": 1,
   "id": "cd99da20",
   "metadata": {},
   "outputs": [],
   "source": [
    "import osmnx as ox\n",
    "import geopandas as gpd"
   ]
  },
  {
   "cell_type": "code",
   "execution_count": 2,
   "id": "f6fd8146",
   "metadata": {},
   "outputs": [],
   "source": [
    "place_name = \"Jaipur Municipal Corporation, Jaipur , Rajasthan, INDIA\""
   ]
  },
  {
   "cell_type": "code",
   "execution_count": 3,
   "id": "64dbd78c",
   "metadata": {},
   "outputs": [],
   "source": [
    "area = ox.geocode_to_gdf(place_name)"
   ]
  },
  {
   "cell_type": "code",
   "execution_count": 4,
   "id": "12021b36",
   "metadata": {},
   "outputs": [
    {
     "data": {
      "text/html": [
       "<div>\n",
       "<style scoped>\n",
       "    .dataframe tbody tr th:only-of-type {\n",
       "        vertical-align: middle;\n",
       "    }\n",
       "\n",
       "    .dataframe tbody tr th {\n",
       "        vertical-align: top;\n",
       "    }\n",
       "\n",
       "    .dataframe thead th {\n",
       "        text-align: right;\n",
       "    }\n",
       "</style>\n",
       "<table border=\"1\" class=\"dataframe\">\n",
       "  <thead>\n",
       "    <tr style=\"text-align: right;\">\n",
       "      <th></th>\n",
       "      <th>geometry</th>\n",
       "      <th>bbox_north</th>\n",
       "      <th>bbox_south</th>\n",
       "      <th>bbox_east</th>\n",
       "      <th>bbox_west</th>\n",
       "      <th>place_id</th>\n",
       "      <th>osm_type</th>\n",
       "      <th>osm_id</th>\n",
       "      <th>lat</th>\n",
       "      <th>lon</th>\n",
       "      <th>display_name</th>\n",
       "      <th>class</th>\n",
       "      <th>type</th>\n",
       "      <th>importance</th>\n",
       "    </tr>\n",
       "  </thead>\n",
       "  <tbody>\n",
       "    <tr>\n",
       "      <th>0</th>\n",
       "      <td>POLYGON ((75.68876 26.91989, 75.68881 26.91754...</td>\n",
       "      <td>27.021866</td>\n",
       "      <td>26.772349</td>\n",
       "      <td>75.911817</td>\n",
       "      <td>75.688756</td>\n",
       "      <td>298802479</td>\n",
       "      <td>relation</td>\n",
       "      <td>7923743</td>\n",
       "      <td>26.896945</td>\n",
       "      <td>75.802125</td>\n",
       "      <td>Jaipur Municipal Corporation, Jaipur Tehsil, J...</td>\n",
       "      <td>boundary</td>\n",
       "      <td>administrative</td>\n",
       "      <td>0.890058</td>\n",
       "    </tr>\n",
       "  </tbody>\n",
       "</table>\n",
       "</div>"
      ],
      "text/plain": [
       "                                            geometry  bbox_north  bbox_south  \\\n",
       "0  POLYGON ((75.68876 26.91989, 75.68881 26.91754...   27.021866   26.772349   \n",
       "\n",
       "   bbox_east  bbox_west   place_id  osm_type   osm_id        lat        lon  \\\n",
       "0  75.911817  75.688756  298802479  relation  7923743  26.896945  75.802125   \n",
       "\n",
       "                                        display_name     class  \\\n",
       "0  Jaipur Municipal Corporation, Jaipur Tehsil, J...  boundary   \n",
       "\n",
       "             type  importance  \n",
       "0  administrative    0.890058  "
      ]
     },
     "execution_count": 4,
     "metadata": {},
     "output_type": "execute_result"
    }
   ],
   "source": [
    "area"
   ]
  },
  {
   "cell_type": "code",
   "execution_count": 5,
   "id": "9bcab048",
   "metadata": {},
   "outputs": [
    {
     "data": {
      "text/plain": [
       "geopandas.geodataframe.GeoDataFrame"
      ]
     },
     "execution_count": 5,
     "metadata": {},
     "output_type": "execute_result"
    }
   ],
   "source": [
    "type(area)"
   ]
  },
  {
   "cell_type": "code",
   "execution_count": 7,
   "id": "f1f8e5a9",
   "metadata": {},
   "outputs": [
    {
     "data": {
      "text/plain": [
       "<AxesSubplot:>"
      ]
     },
     "execution_count": 7,
     "metadata": {},
     "output_type": "execute_result"
    },
    {
     "data": {
      "image/png": "[encoded data removed]",
      "text/plain": [
       "<Figure size 640x480 with 1 Axes>"
      ]
     },
     "metadata": {},
     "output_type": "display_data"
    }
   ],
   "source": [
    "area.plot()"
   ]
  },
  {
   "cell_type": "code",
   "execution_count": 8,
   "id": "9c44db66",
   "metadata": {},
   "outputs": [
    {
     "data": {
      "text/html": [
       "<div>\n",
       "<style scoped>\n",
       "    .dataframe tbody tr th:only-of-type {\n",
       "        vertical-align: middle;\n",
       "    }\n",
       "\n",
       "    .dataframe tbody tr th {\n",
       "        vertical-align: top;\n",
       "    }\n",
       "\n",
       "    .dataframe thead th {\n",
       "        text-align: right;\n",
       "    }\n",
       "</style>\n",
       "<table border=\"1\" class=\"dataframe\">\n",
       "  <thead>\n",
       "    <tr style=\"text-align: right;\">\n",
       "      <th></th>\n",
       "      <th></th>\n",
       "      <th>access</th>\n",
       "      <th>barrier</th>\n",
       "      <th>geometry</th>\n",
       "      <th>addr:city</th>\n",
       "      <th>name</th>\n",
       "      <th>tourism</th>\n",
       "      <th>amenity</th>\n",
       "      <th>name:hi</th>\n",
       "      <th>addr:housename</th>\n",
       "      <th>addr:housenumber</th>\n",
       "      <th>...</th>\n",
       "      <th>station</th>\n",
       "      <th>subway</th>\n",
       "      <th>location</th>\n",
       "      <th>parking</th>\n",
       "      <th>denomination</th>\n",
       "      <th>material</th>\n",
       "      <th>changing_table</th>\n",
       "      <th>toilets:disposal</th>\n",
       "      <th>ways</th>\n",
       "      <th>type</th>\n",
       "    </tr>\n",
       "    <tr>\n",
       "      <th>element_type</th>\n",
       "      <th>osmid</th>\n",
       "      <th></th>\n",
       "      <th></th>\n",
       "      <th></th>\n",
       "      <th></th>\n",
       "      <th></th>\n",
       "      <th></th>\n",
       "      <th></th>\n",
       "      <th></th>\n",
       "      <th></th>\n",
       "      <th></th>\n",
       "      <th></th>\n",
       "      <th></th>\n",
       "      <th></th>\n",
       "      <th></th>\n",
       "      <th></th>\n",
       "      <th></th>\n",
       "      <th></th>\n",
       "      <th></th>\n",
       "      <th></th>\n",
       "      <th></th>\n",
       "      <th></th>\n",
       "    </tr>\n",
       "  </thead>\n",
       "  <tbody>\n",
       "    <tr>\n",
       "      <th rowspan=\"5\" valign=\"top\">node</th>\n",
       "      <th>3452836377</th>\n",
       "      <td>NaN</td>\n",
       "      <td>NaN</td>\n",
       "      <td>POINT (75.77826 26.85014)</td>\n",
       "      <td>Jaipur</td>\n",
       "      <td>Sashakta Technologies, SAP Jaipur, SAP Rajasthan</td>\n",
       "      <td>NaN</td>\n",
       "      <td>NaN</td>\n",
       "      <td>NaN</td>\n",
       "      <td>Sashakta Manor</td>\n",
       "      <td>45-46, Gayatri Nagar B, Maharani Farm, Durgapura</td>\n",
       "      <td>...</td>\n",
       "      <td>NaN</td>\n",
       "      <td>NaN</td>\n",
       "      <td>NaN</td>\n",
       "      <td>NaN</td>\n",
       "      <td>NaN</td>\n",
       "      <td>NaN</td>\n",
       "      <td>NaN</td>\n",
       "      <td>NaN</td>\n",
       "      <td>NaN</td>\n",
       "      <td>NaN</td>\n",
       "    </tr>\n",
       "    <tr>\n",
       "      <th>3476221911</th>\n",
       "      <td>NaN</td>\n",
       "      <td>NaN</td>\n",
       "      <td>POINT (75.80994 26.86184)</td>\n",
       "      <td>Jaipur</td>\n",
       "      <td>Malviya National Institute of Technology</td>\n",
       "      <td>NaN</td>\n",
       "      <td>NaN</td>\n",
       "      <td>NaN</td>\n",
       "      <td>NaN</td>\n",
       "      <td>NaN</td>\n",
       "      <td>...</td>\n",
       "      <td>NaN</td>\n",
       "      <td>NaN</td>\n",
       "      <td>NaN</td>\n",
       "      <td>NaN</td>\n",
       "      <td>NaN</td>\n",
       "      <td>NaN</td>\n",
       "      <td>NaN</td>\n",
       "      <td>NaN</td>\n",
       "      <td>NaN</td>\n",
       "      <td>NaN</td>\n",
       "    </tr>\n",
       "    <tr>\n",
       "      <th>3748715931</th>\n",
       "      <td>NaN</td>\n",
       "      <td>NaN</td>\n",
       "      <td>POINT (75.74834 27.01483)</td>\n",
       "      <td>NaN</td>\n",
       "      <td>Sham Ji Sain house</td>\n",
       "      <td>NaN</td>\n",
       "      <td>NaN</td>\n",
       "      <td>NaN</td>\n",
       "      <td>NaN</td>\n",
       "      <td>NaN</td>\n",
       "      <td>...</td>\n",
       "      <td>NaN</td>\n",
       "      <td>NaN</td>\n",
       "      <td>NaN</td>\n",
       "      <td>NaN</td>\n",
       "      <td>NaN</td>\n",
       "      <td>NaN</td>\n",
       "      <td>NaN</td>\n",
       "      <td>NaN</td>\n",
       "      <td>NaN</td>\n",
       "      <td>NaN</td>\n",
       "    </tr>\n",
       "    <tr>\n",
       "      <th>3748715936</th>\n",
       "      <td>NaN</td>\n",
       "      <td>NaN</td>\n",
       "      <td>POINT (75.75933 27.01086)</td>\n",
       "      <td>NaN</td>\n",
       "      <td>Ramanand Atal</td>\n",
       "      <td>NaN</td>\n",
       "      <td>NaN</td>\n",
       "      <td>NaN</td>\n",
       "      <td>NaN</td>\n",
       "      <td>NaN</td>\n",
       "      <td>...</td>\n",
       "      <td>NaN</td>\n",
       "      <td>NaN</td>\n",
       "      <td>NaN</td>\n",
       "      <td>NaN</td>\n",
       "      <td>NaN</td>\n",
       "      <td>NaN</td>\n",
       "      <td>NaN</td>\n",
       "      <td>NaN</td>\n",
       "      <td>NaN</td>\n",
       "      <td>NaN</td>\n",
       "    </tr>\n",
       "    <tr>\n",
       "      <th>3748715951</th>\n",
       "      <td>NaN</td>\n",
       "      <td>NaN</td>\n",
       "      <td>POINT (75.75035 27.01443)</td>\n",
       "      <td>NaN</td>\n",
       "      <td>Ishwarlal home</td>\n",
       "      <td>NaN</td>\n",
       "      <td>NaN</td>\n",
       "      <td>NaN</td>\n",
       "      <td>NaN</td>\n",
       "      <td>NaN</td>\n",
       "      <td>...</td>\n",
       "      <td>NaN</td>\n",
       "      <td>NaN</td>\n",
       "      <td>NaN</td>\n",
       "      <td>NaN</td>\n",
       "      <td>NaN</td>\n",
       "      <td>NaN</td>\n",
       "      <td>NaN</td>\n",
       "      <td>NaN</td>\n",
       "      <td>NaN</td>\n",
       "      <td>NaN</td>\n",
       "    </tr>\n",
       "  </tbody>\n",
       "</table>\n",
       "<p>5 rows × 128 columns</p>\n",
       "</div>"
      ],
      "text/plain": [
       "                        access barrier                   geometry addr:city  \\\n",
       "element_type osmid                                                            \n",
       "node         3452836377    NaN     NaN  POINT (75.77826 26.85014)    Jaipur   \n",
       "             3476221911    NaN     NaN  POINT (75.80994 26.86184)    Jaipur   \n",
       "             3748715931    NaN     NaN  POINT (75.74834 27.01483)       NaN   \n",
       "             3748715936    NaN     NaN  POINT (75.75933 27.01086)       NaN   \n",
       "             3748715951    NaN     NaN  POINT (75.75035 27.01443)       NaN   \n",
       "\n",
       "                                                                     name  \\\n",
       "element_type osmid                                                          \n",
       "node         3452836377  Sashakta Technologies, SAP Jaipur, SAP Rajasthan   \n",
       "             3476221911          Malviya National Institute of Technology   \n",
       "             3748715931                                Sham Ji Sain house   \n",
       "             3748715936                                     Ramanand Atal   \n",
       "             3748715951                                    Ishwarlal home   \n",
       "\n",
       "                        tourism amenity name:hi  addr:housename  \\\n",
       "element_type osmid                                                \n",
       "node         3452836377     NaN     NaN     NaN  Sashakta Manor   \n",
       "             3476221911     NaN     NaN     NaN             NaN   \n",
       "             3748715931     NaN     NaN     NaN             NaN   \n",
       "             3748715936     NaN     NaN     NaN             NaN   \n",
       "             3748715951     NaN     NaN     NaN             NaN   \n",
       "\n",
       "                                                         addr:housenumber  \\\n",
       "element_type osmid                                                          \n",
       "node         3452836377  45-46, Gayatri Nagar B, Maharani Farm, Durgapura   \n",
       "             3476221911                                               NaN   \n",
       "             3748715931                                               NaN   \n",
       "             3748715936                                               NaN   \n",
       "             3748715951                                               NaN   \n",
       "\n",
       "                         ... station subway location parking denomination  \\\n",
       "element_type osmid       ...                                                \n",
       "node         3452836377  ...     NaN    NaN      NaN     NaN          NaN   \n",
       "             3476221911  ...     NaN    NaN      NaN     NaN          NaN   \n",
       "             3748715931  ...     NaN    NaN      NaN     NaN          NaN   \n",
       "             3748715936  ...     NaN    NaN      NaN     NaN          NaN   \n",
       "             3748715951  ...     NaN    NaN      NaN     NaN          NaN   \n",
       "\n",
       "                        material changing_table toilets:disposal ways type  \n",
       "element_type osmid                                                          \n",
       "node         3452836377      NaN            NaN              NaN  NaN  NaN  \n",
       "             3476221911      NaN            NaN              NaN  NaN  NaN  \n",
       "             3748715931      NaN            NaN              NaN  NaN  NaN  \n",
       "             3748715936      NaN            NaN              NaN  NaN  NaN  \n",
       "             3748715951      NaN            NaN              NaN  NaN  NaN  \n",
       "\n",
       "[5 rows x 128 columns]"
      ]
     },
     "execution_count": 8,
     "metadata": {},
     "output_type": "execute_result"
    }
   ],
   "source": [
    "tags = {'building': True}   \n",
    "\n",
    "buildings = ox.geometries_from_place(place_name, tags)\n",
    "buildings.head()"
   ]
  },
  {
   "cell_type": "code",
   "execution_count": 9,
   "id": "8ac5c21c",
   "metadata": {},
   "outputs": [
    {
     "data": {
      "text/plain": [
       "<AxesSubplot:>"
      ]
     },
     "execution_count": 9,
     "metadata": {},
     "output_type": "execute_result"
    },
    {
     "data": {
      "image/png": "[encoded data removed]",
      "text/plain": [
       "<Figure size 640x480 with 1 Axes>"
      ]
     },
     "metadata": {},
     "output_type": "display_data"
    }
   ],
   "source": [
    "buildings.plot()"
   ]
  },
  {
   "cell_type": "code",
   "execution_count": 10,
   "id": "7957e0b0",
   "metadata": {},
   "outputs": [],
   "source": [
    "buildings  = buildings.loc[:,buildings.columns.str.contains('addr:|geometry')]"
   ]
  },
  {
   "cell_type": "code",
   "execution_count": 11,
   "id": "9ee9ed11",
   "metadata": {},
   "outputs": [],
   "source": [
    "buildings = buildings.loc[buildings.geometry.type=='Polygon']"
   ]
  },
  {
   "cell_type": "code",
   "execution_count": 12,
   "id": "57638fcb",
   "metadata": {},
   "outputs": [
    {
     "name": "stderr",
     "output_type": "stream",
     "text": [
      "/var/folders/js/xn73j0zd19g9qtbb14r9cj480000gn/T/ipykernel_1029/244439045.py:1: UserWarning: Column names longer than 10 characters will be truncated when saved to ESRI Shapefile.\n",
      "  buildings.to_file('jaipur_buildings.shp')\n"
     ]
    }
   ],
   "source": [
    "buildings.to_file('jaipur_buildings.shp')"
   ]
  },
  {
   "cell_type": "code",
   "execution_count": null,
   "id": "72442b75",
   "metadata": {},
   "outputs": [],
   "source": []
  }
 ],
 "metadata": {
  "kernelspec": {
   "display_name": "Python 3 (ipykernel)",
   "language": "python",
   "name": "python3"
  },
  "language_info": {
   "codemirror_mode": {
    "name": "ipython",
    "version": 3
   },
   "file_extension": ".py",
   "mimetype": "text/x-python",
   "name": "python",
   "nbconvert_exporter": "python",
   "pygments_lexer": "ipython3",
   "version": "3.10.5"
  }
 },
 "nbformat": 4,
 "nbformat_minor": 5
}
